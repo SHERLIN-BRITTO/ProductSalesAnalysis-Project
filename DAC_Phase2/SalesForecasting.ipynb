{
 "cells": [
  {
   "cell_type": "markdown",
   "id": "d76f295600464c5e",
   "metadata": {},
   "source": [
    "# Product Sales Forecasting"
   ]
  },
  {
   "cell_type": "markdown",
   "id": "61b56e7f598315e8",
   "metadata": {},
   "source": [
    "## Importing Libraries"
   ]
  },
  {
   "cell_type": "code",
   "execution_count": 1,
   "id": "eb5b43e56c471cbc",
   "metadata": {
    "ExecuteTime": {
     "end_time": "2023-10-11T05:41:39.021661700Z",
     "start_time": "2023-10-11T05:41:38.787544200Z"
    }
   },
   "outputs": [],
   "source": [
    "import pandas as pd\n",
    "import numpy as np\n",
    "import matplotlib.pyplot as plt\n",
    "import seaborn as sns\n",
    "from statsmodels.tsa.statespace.sarimax import SARIMAX\n",
    "import warnings\n",
    "from datetime import datetime\n",
    "\n",
    "warnings.filterwarnings(\"ignore\")"
   ]
  },
  {
   "cell_type": "markdown",
   "id": "a00ba7cd5e99cd5",
   "metadata": {},
   "source": [
    "## Loading the data"
   ]
  },
  {
   "cell_type": "code",
   "execution_count": 28,
   "id": "e21ab2da07f6b2df",
   "metadata": {
    "ExecuteTime": {
     "end_time": "2023-10-11T05:47:06.419715Z",
     "start_time": "2023-10-11T05:47:06.371976800Z"
    }
   },
   "outputs": [
    {
     "data": {
      "text/html": [
       "<div>\n",
       "<style scoped>\n",
       "    .dataframe tbody tr th:only-of-type {\n",
       "        vertical-align: middle;\n",
       "    }\n",
       "\n",
       "    .dataframe tbody tr th {\n",
       "        vertical-align: top;\n",
       "    }\n",
       "\n",
       "    .dataframe thead th {\n",
       "        text-align: right;\n",
       "    }\n",
       "</style>\n",
       "<table border=\"1\" class=\"dataframe\">\n",
       "  <thead>\n",
       "    <tr style=\"text-align: right;\">\n",
       "      <th></th>\n",
       "      <th>Unnamed: 0</th>\n",
       "      <th>Date</th>\n",
       "      <th>Q-P1</th>\n",
       "      <th>Q-P2</th>\n",
       "      <th>Q-P3</th>\n",
       "      <th>Q-P4</th>\n",
       "      <th>S-P1</th>\n",
       "      <th>S-P2</th>\n",
       "      <th>S-P3</th>\n",
       "      <th>S-P4</th>\n",
       "    </tr>\n",
       "  </thead>\n",
       "  <tbody>\n",
       "    <tr>\n",
       "      <th>0</th>\n",
       "      <td>0</td>\n",
       "      <td>2010-06-13</td>\n",
       "      <td>5422</td>\n",
       "      <td>3725</td>\n",
       "      <td>576</td>\n",
       "      <td>907</td>\n",
       "      <td>17187.74</td>\n",
       "      <td>23616.50</td>\n",
       "      <td>3121.92</td>\n",
       "      <td>6466.91</td>\n",
       "    </tr>\n",
       "    <tr>\n",
       "      <th>1</th>\n",
       "      <td>1</td>\n",
       "      <td>2010-06-14</td>\n",
       "      <td>7047</td>\n",
       "      <td>779</td>\n",
       "      <td>3578</td>\n",
       "      <td>1574</td>\n",
       "      <td>22338.99</td>\n",
       "      <td>4938.86</td>\n",
       "      <td>19392.76</td>\n",
       "      <td>11222.62</td>\n",
       "    </tr>\n",
       "    <tr>\n",
       "      <th>2</th>\n",
       "      <td>2</td>\n",
       "      <td>2010-06-15</td>\n",
       "      <td>1572</td>\n",
       "      <td>2082</td>\n",
       "      <td>595</td>\n",
       "      <td>1145</td>\n",
       "      <td>4983.24</td>\n",
       "      <td>13199.88</td>\n",
       "      <td>3224.90</td>\n",
       "      <td>8163.85</td>\n",
       "    </tr>\n",
       "    <tr>\n",
       "      <th>3</th>\n",
       "      <td>3</td>\n",
       "      <td>2010-06-16</td>\n",
       "      <td>5657</td>\n",
       "      <td>2399</td>\n",
       "      <td>3140</td>\n",
       "      <td>1672</td>\n",
       "      <td>17932.69</td>\n",
       "      <td>15209.66</td>\n",
       "      <td>17018.80</td>\n",
       "      <td>11921.36</td>\n",
       "    </tr>\n",
       "    <tr>\n",
       "      <th>4</th>\n",
       "      <td>4</td>\n",
       "      <td>2010-06-17</td>\n",
       "      <td>3668</td>\n",
       "      <td>3207</td>\n",
       "      <td>2184</td>\n",
       "      <td>708</td>\n",
       "      <td>11627.56</td>\n",
       "      <td>20332.38</td>\n",
       "      <td>11837.28</td>\n",
       "      <td>5048.04</td>\n",
       "    </tr>\n",
       "    <tr>\n",
       "      <th>...</th>\n",
       "      <td>...</td>\n",
       "      <td>...</td>\n",
       "      <td>...</td>\n",
       "      <td>...</td>\n",
       "      <td>...</td>\n",
       "      <td>...</td>\n",
       "      <td>...</td>\n",
       "      <td>...</td>\n",
       "      <td>...</td>\n",
       "      <td>...</td>\n",
       "    </tr>\n",
       "    <tr>\n",
       "      <th>4595</th>\n",
       "      <td>4595</td>\n",
       "      <td>2023-01-30</td>\n",
       "      <td>2476</td>\n",
       "      <td>3419</td>\n",
       "      <td>525</td>\n",
       "      <td>1359</td>\n",
       "      <td>7848.92</td>\n",
       "      <td>21676.46</td>\n",
       "      <td>2845.50</td>\n",
       "      <td>9689.67</td>\n",
       "    </tr>\n",
       "    <tr>\n",
       "      <th>4596</th>\n",
       "      <td>4596</td>\n",
       "      <td>2023-01-31</td>\n",
       "      <td>7446</td>\n",
       "      <td>841</td>\n",
       "      <td>4825</td>\n",
       "      <td>1311</td>\n",
       "      <td>23603.82</td>\n",
       "      <td>5331.94</td>\n",
       "      <td>26151.50</td>\n",
       "      <td>9347.43</td>\n",
       "    </tr>\n",
       "    <tr>\n",
       "      <th>4597</th>\n",
       "      <td>4597</td>\n",
       "      <td>2023-02-01</td>\n",
       "      <td>6289</td>\n",
       "      <td>3143</td>\n",
       "      <td>3588</td>\n",
       "      <td>474</td>\n",
       "      <td>19936.13</td>\n",
       "      <td>19926.62</td>\n",
       "      <td>19446.96</td>\n",
       "      <td>3379.62</td>\n",
       "    </tr>\n",
       "    <tr>\n",
       "      <th>4598</th>\n",
       "      <td>4598</td>\n",
       "      <td>2023-02-02</td>\n",
       "      <td>3122</td>\n",
       "      <td>1188</td>\n",
       "      <td>5899</td>\n",
       "      <td>517</td>\n",
       "      <td>9896.74</td>\n",
       "      <td>7531.92</td>\n",
       "      <td>31972.58</td>\n",
       "      <td>3686.21</td>\n",
       "    </tr>\n",
       "    <tr>\n",
       "      <th>4599</th>\n",
       "      <td>4599</td>\n",
       "      <td>2023-02-03</td>\n",
       "      <td>1234</td>\n",
       "      <td>3854</td>\n",
       "      <td>2321</td>\n",
       "      <td>406</td>\n",
       "      <td>3911.78</td>\n",
       "      <td>24434.36</td>\n",
       "      <td>12579.82</td>\n",
       "      <td>2894.78</td>\n",
       "    </tr>\n",
       "  </tbody>\n",
       "</table>\n",
       "<p>4600 rows × 10 columns</p>\n",
       "</div>"
      ],
      "text/plain": [
       "      Unnamed: 0       Date  Q-P1  Q-P2  Q-P3  Q-P4      S-P1      S-P2  \\\n",
       "0              0 2010-06-13  5422  3725   576   907  17187.74  23616.50   \n",
       "1              1 2010-06-14  7047   779  3578  1574  22338.99   4938.86   \n",
       "2              2 2010-06-15  1572  2082   595  1145   4983.24  13199.88   \n",
       "3              3 2010-06-16  5657  2399  3140  1672  17932.69  15209.66   \n",
       "4              4 2010-06-17  3668  3207  2184   708  11627.56  20332.38   \n",
       "...          ...        ...   ...   ...   ...   ...       ...       ...   \n",
       "4595        4595 2023-01-30  2476  3419   525  1359   7848.92  21676.46   \n",
       "4596        4596 2023-01-31  7446   841  4825  1311  23603.82   5331.94   \n",
       "4597        4597 2023-02-01  6289  3143  3588   474  19936.13  19926.62   \n",
       "4598        4598 2023-02-02  3122  1188  5899   517   9896.74   7531.92   \n",
       "4599        4599 2023-02-03  1234  3854  2321   406   3911.78  24434.36   \n",
       "\n",
       "          S-P3      S-P4  \n",
       "0      3121.92   6466.91  \n",
       "1     19392.76  11222.62  \n",
       "2      3224.90   8163.85  \n",
       "3     17018.80  11921.36  \n",
       "4     11837.28   5048.04  \n",
       "...        ...       ...  \n",
       "4595   2845.50   9689.67  \n",
       "4596  26151.50   9347.43  \n",
       "4597  19446.96   3379.62  \n",
       "4598  31972.58   3686.21  \n",
       "4599  12579.82   2894.78  \n",
       "\n",
       "[4600 rows x 10 columns]"
      ]
     },
     "execution_count": 28,
     "metadata": {},
     "output_type": "execute_result"
    }
   ],
   "source": [
    "#put the dataset and this file in the same folder \n",
    "df = pd.read_csv(\"statsfinal.csv\")\n",
    "df['Date'] = pd.to_datetime(df['Date'], format='%d-%m-%Y', errors=\"coerce\")\n",
    "df"
   ]
  },
  {
   "cell_type": "code",
   "execution_count": 3,
   "id": "3efe69440d380598",
   "metadata": {
    "ExecuteTime": {
     "end_time": "2023-10-11T05:41:39.188390700Z",
     "start_time": "2023-10-11T05:41:39.130054100Z"
    }
   },
   "outputs": [
    {
     "data": {
      "text/plain": [
       "<bound method DataFrame.info of       Unnamed: 0       Date  Q-P1  Q-P2  Q-P3  Q-P4      S-P1      S-P2  \\\n",
       "0              0 2010-06-13  5422  3725   576   907  17187.74  23616.50   \n",
       "1              1 2010-06-14  7047   779  3578  1574  22338.99   4938.86   \n",
       "2              2 2010-06-15  1572  2082   595  1145   4983.24  13199.88   \n",
       "3              3 2010-06-16  5657  2399  3140  1672  17932.69  15209.66   \n",
       "4              4 2010-06-17  3668  3207  2184   708  11627.56  20332.38   \n",
       "...          ...        ...   ...   ...   ...   ...       ...       ...   \n",
       "4595        4595 2023-01-30  2476  3419   525  1359   7848.92  21676.46   \n",
       "4596        4596 2023-01-31  7446   841  4825  1311  23603.82   5331.94   \n",
       "4597        4597 2023-02-01  6289  3143  3588   474  19936.13  19926.62   \n",
       "4598        4598 2023-02-02  3122  1188  5899   517   9896.74   7531.92   \n",
       "4599        4599 2023-02-03  1234  3854  2321   406   3911.78  24434.36   \n",
       "\n",
       "          S-P3      S-P4  \n",
       "0      3121.92   6466.91  \n",
       "1     19392.76  11222.62  \n",
       "2      3224.90   8163.85  \n",
       "3     17018.80  11921.36  \n",
       "4     11837.28   5048.04  \n",
       "...        ...       ...  \n",
       "4595   2845.50   9689.67  \n",
       "4596  26151.50   9347.43  \n",
       "4597  19446.96   3379.62  \n",
       "4598  31972.58   3686.21  \n",
       "4599  12579.82   2894.78  \n",
       "\n",
       "[4600 rows x 10 columns]>"
      ]
     },
     "execution_count": 3,
     "metadata": {},
     "output_type": "execute_result"
    }
   ],
   "source": [
    "df.info\n"
   ]
  },
  {
   "cell_type": "markdown",
   "id": "a03347b48656d109",
   "metadata": {},
   "source": [
    "## Preprocessing"
   ]
  },
  {
   "cell_type": "code",
   "execution_count": 4,
   "id": "86332c6fd0fa9497",
   "metadata": {
    "ExecuteTime": {
     "end_time": "2023-10-11T05:41:39.283940500Z",
     "start_time": "2023-10-11T05:41:39.149137200Z"
    }
   },
   "outputs": [
    {
     "data": {
      "text/plain": [
       "Unnamed: 0     0\n",
       "Date          26\n",
       "Q-P1           0\n",
       "Q-P2           0\n",
       "Q-P3           0\n",
       "Q-P4           0\n",
       "S-P1           0\n",
       "S-P2           0\n",
       "S-P3           0\n",
       "S-P4           0\n",
       "dtype: int64"
      ]
     },
     "execution_count": 4,
     "metadata": {},
     "output_type": "execute_result"
    }
   ],
   "source": [
    "df.isnull().sum()"
   ]
  },
  {
   "cell_type": "markdown",
   "id": "e14cb34d7b3ecbf",
   "metadata": {},
   "source": []
  },
  {
   "cell_type": "markdown",
   "id": "902c429efe0b44e1",
   "metadata": {},
   "source": [
    "### Removing unwanted columns"
   ]
  },
  {
   "cell_type": "code",
   "execution_count": 5,
   "id": "f4ef5902",
   "metadata": {
    "ExecuteTime": {
     "end_time": "2023-10-11T05:41:39.324233100Z",
     "start_time": "2023-10-11T05:41:39.166778800Z"
    }
   },
   "outputs": [],
   "source": [
    "df.drop(\"Unnamed: 0\", axis=1, inplace=True)"
   ]
  },
  {
   "cell_type": "code",
   "execution_count": 6,
   "id": "81ed6fa0",
   "metadata": {
    "ExecuteTime": {
     "end_time": "2023-10-11T05:41:39.325236500Z",
     "start_time": "2023-10-11T05:41:39.178386Z"
    }
   },
   "outputs": [
    {
     "data": {
      "text/plain": [
       "array(['Date', 'Q-P1', 'Q-P2', 'Q-P3', 'Q-P4', 'S-P1', 'S-P2', 'S-P3',\n",
       "       'S-P4'], dtype=object)"
      ]
     },
     "execution_count": 6,
     "metadata": {},
     "output_type": "execute_result"
    }
   ],
   "source": [
    "df.columns.values"
   ]
  },
  {
   "cell_type": "markdown",
   "id": "19a4abfc7ae7d509",
   "metadata": {},
   "source": [
    "### Renaming columns"
   ]
  },
  {
   "cell_type": "code",
   "execution_count": 7,
   "id": "55c9d6ce",
   "metadata": {
    "ExecuteTime": {
     "end_time": "2023-10-11T05:41:39.327358600Z",
     "start_time": "2023-10-11T05:41:39.191476400Z"
    }
   },
   "outputs": [],
   "source": [
    "df.columns = ['Date', 'Q1', 'Q2', 'Q3', 'Q4', 'S1', 'S2', 'S3', 'S4']\n",
    "\n",
    "# Set the 'Date' column as the index\n",
    "df.set_index('Date', inplace=True)"
   ]
  },
  {
   "cell_type": "markdown",
   "id": "81ada05d8ba6de40",
   "metadata": {},
   "source": [
    "### Aggregating data with daily samples to yearly samples"
   ]
  },
  {
   "cell_type": "code",
   "execution_count": 8,
   "id": "9abc5b184c0b5d07",
   "metadata": {
    "ExecuteTime": {
     "end_time": "2023-10-11T05:41:39.478897500Z",
     "start_time": "2023-10-11T05:41:39.202132900Z"
    }
   },
   "outputs": [
    {
     "data": {
      "text/html": [
       "<div>\n",
       "<style scoped>\n",
       "    .dataframe tbody tr th:only-of-type {\n",
       "        vertical-align: middle;\n",
       "    }\n",
       "\n",
       "    .dataframe tbody tr th {\n",
       "        vertical-align: top;\n",
       "    }\n",
       "\n",
       "    .dataframe thead th {\n",
       "        text-align: right;\n",
       "    }\n",
       "</style>\n",
       "<table border=\"1\" class=\"dataframe\">\n",
       "  <thead>\n",
       "    <tr style=\"text-align: right;\">\n",
       "      <th></th>\n",
       "      <th>Q1</th>\n",
       "      <th>Q2</th>\n",
       "      <th>Q3</th>\n",
       "      <th>Q4</th>\n",
       "      <th>S1</th>\n",
       "      <th>S2</th>\n",
       "      <th>S3</th>\n",
       "      <th>S4</th>\n",
       "    </tr>\n",
       "    <tr>\n",
       "      <th>Date</th>\n",
       "      <th></th>\n",
       "      <th></th>\n",
       "      <th></th>\n",
       "      <th></th>\n",
       "      <th></th>\n",
       "      <th></th>\n",
       "      <th></th>\n",
       "      <th></th>\n",
       "    </tr>\n",
       "  </thead>\n",
       "  <tbody>\n",
       "    <tr>\n",
       "      <th>2010-12-31</th>\n",
       "      <td>802353</td>\n",
       "      <td>429038</td>\n",
       "      <td>624624</td>\n",
       "      <td>219849</td>\n",
       "      <td>2543459.01</td>\n",
       "      <td>2720100.92</td>\n",
       "      <td>3385462.08</td>\n",
       "      <td>1567523.37</td>\n",
       "    </tr>\n",
       "    <tr>\n",
       "      <th>2011-12-31</th>\n",
       "      <td>1433066</td>\n",
       "      <td>747815</td>\n",
       "      <td>1150383</td>\n",
       "      <td>409762</td>\n",
       "      <td>4542819.22</td>\n",
       "      <td>4741147.10</td>\n",
       "      <td>6235075.86</td>\n",
       "      <td>2921603.06</td>\n",
       "    </tr>\n",
       "    <tr>\n",
       "      <th>2012-12-31</th>\n",
       "      <td>1505099</td>\n",
       "      <td>766875</td>\n",
       "      <td>1139098</td>\n",
       "      <td>415878</td>\n",
       "      <td>4771163.83</td>\n",
       "      <td>4861987.50</td>\n",
       "      <td>6173911.16</td>\n",
       "      <td>2965210.14</td>\n",
       "    </tr>\n",
       "    <tr>\n",
       "      <th>2013-12-31</th>\n",
       "      <td>1524821</td>\n",
       "      <td>752582</td>\n",
       "      <td>1110297</td>\n",
       "      <td>402313</td>\n",
       "      <td>4833682.57</td>\n",
       "      <td>4771369.88</td>\n",
       "      <td>6017809.74</td>\n",
       "      <td>2868491.69</td>\n",
       "    </tr>\n",
       "    <tr>\n",
       "      <th>2014-12-31</th>\n",
       "      <td>1562941</td>\n",
       "      <td>785457</td>\n",
       "      <td>1155979</td>\n",
       "      <td>401840</td>\n",
       "      <td>4954522.97</td>\n",
       "      <td>4979797.38</td>\n",
       "      <td>6265406.18</td>\n",
       "      <td>2865119.20</td>\n",
       "    </tr>\n",
       "    <tr>\n",
       "      <th>2015-12-31</th>\n",
       "      <td>1473098</td>\n",
       "      <td>762430</td>\n",
       "      <td>1104795</td>\n",
       "      <td>411392</td>\n",
       "      <td>4669720.66</td>\n",
       "      <td>4833806.20</td>\n",
       "      <td>5987988.90</td>\n",
       "      <td>2933224.96</td>\n",
       "    </tr>\n",
       "    <tr>\n",
       "      <th>2016-12-31</th>\n",
       "      <td>1507255</td>\n",
       "      <td>780007</td>\n",
       "      <td>1109885</td>\n",
       "      <td>406163</td>\n",
       "      <td>4777998.35</td>\n",
       "      <td>4945244.38</td>\n",
       "      <td>6015576.70</td>\n",
       "      <td>2895942.19</td>\n",
       "    </tr>\n",
       "    <tr>\n",
       "      <th>2017-12-31</th>\n",
       "      <td>1460109</td>\n",
       "      <td>802194</td>\n",
       "      <td>1156747</td>\n",
       "      <td>416542</td>\n",
       "      <td>4628545.53</td>\n",
       "      <td>5085909.96</td>\n",
       "      <td>6269568.74</td>\n",
       "      <td>2969944.46</td>\n",
       "    </tr>\n",
       "    <tr>\n",
       "      <th>2018-12-31</th>\n",
       "      <td>1522332</td>\n",
       "      <td>745633</td>\n",
       "      <td>1143638</td>\n",
       "      <td>396128</td>\n",
       "      <td>4825792.44</td>\n",
       "      <td>4727313.22</td>\n",
       "      <td>6198517.96</td>\n",
       "      <td>2824392.64</td>\n",
       "    </tr>\n",
       "    <tr>\n",
       "      <th>2019-12-31</th>\n",
       "      <td>1476768</td>\n",
       "      <td>780174</td>\n",
       "      <td>1126612</td>\n",
       "      <td>408488</td>\n",
       "      <td>4681354.56</td>\n",
       "      <td>4946303.16</td>\n",
       "      <td>6106237.04</td>\n",
       "      <td>2912519.44</td>\n",
       "    </tr>\n",
       "    <tr>\n",
       "      <th>2020-12-31</th>\n",
       "      <td>1492774</td>\n",
       "      <td>773632</td>\n",
       "      <td>1170414</td>\n",
       "      <td>418600</td>\n",
       "      <td>4732093.58</td>\n",
       "      <td>4904826.88</td>\n",
       "      <td>6343643.88</td>\n",
       "      <td>2984618.00</td>\n",
       "    </tr>\n",
       "    <tr>\n",
       "      <th>2021-12-31</th>\n",
       "      <td>1500978</td>\n",
       "      <td>780502</td>\n",
       "      <td>1161293</td>\n",
       "      <td>405946</td>\n",
       "      <td>4758100.26</td>\n",
       "      <td>4948382.68</td>\n",
       "      <td>6294208.06</td>\n",
       "      <td>2894394.98</td>\n",
       "    </tr>\n",
       "    <tr>\n",
       "      <th>2022-12-31</th>\n",
       "      <td>1448265</td>\n",
       "      <td>756631</td>\n",
       "      <td>1105808</td>\n",
       "      <td>387153</td>\n",
       "      <td>4591000.05</td>\n",
       "      <td>4797040.54</td>\n",
       "      <td>5993479.36</td>\n",
       "      <td>2760400.89</td>\n",
       "    </tr>\n",
       "    <tr>\n",
       "      <th>2023-12-31</th>\n",
       "      <td>150310</td>\n",
       "      <td>78301</td>\n",
       "      <td>120030</td>\n",
       "      <td>39925</td>\n",
       "      <td>476482.70</td>\n",
       "      <td>496428.34</td>\n",
       "      <td>650562.60</td>\n",
       "      <td>284665.25</td>\n",
       "    </tr>\n",
       "  </tbody>\n",
       "</table>\n",
       "</div>"
      ],
      "text/plain": [
       "                 Q1      Q2       Q3      Q4          S1          S2  \\\n",
       "Date                                                                   \n",
       "2010-12-31   802353  429038   624624  219849  2543459.01  2720100.92   \n",
       "2011-12-31  1433066  747815  1150383  409762  4542819.22  4741147.10   \n",
       "2012-12-31  1505099  766875  1139098  415878  4771163.83  4861987.50   \n",
       "2013-12-31  1524821  752582  1110297  402313  4833682.57  4771369.88   \n",
       "2014-12-31  1562941  785457  1155979  401840  4954522.97  4979797.38   \n",
       "2015-12-31  1473098  762430  1104795  411392  4669720.66  4833806.20   \n",
       "2016-12-31  1507255  780007  1109885  406163  4777998.35  4945244.38   \n",
       "2017-12-31  1460109  802194  1156747  416542  4628545.53  5085909.96   \n",
       "2018-12-31  1522332  745633  1143638  396128  4825792.44  4727313.22   \n",
       "2019-12-31  1476768  780174  1126612  408488  4681354.56  4946303.16   \n",
       "2020-12-31  1492774  773632  1170414  418600  4732093.58  4904826.88   \n",
       "2021-12-31  1500978  780502  1161293  405946  4758100.26  4948382.68   \n",
       "2022-12-31  1448265  756631  1105808  387153  4591000.05  4797040.54   \n",
       "2023-12-31   150310   78301   120030   39925   476482.70   496428.34   \n",
       "\n",
       "                    S3          S4  \n",
       "Date                                \n",
       "2010-12-31  3385462.08  1567523.37  \n",
       "2011-12-31  6235075.86  2921603.06  \n",
       "2012-12-31  6173911.16  2965210.14  \n",
       "2013-12-31  6017809.74  2868491.69  \n",
       "2014-12-31  6265406.18  2865119.20  \n",
       "2015-12-31  5987988.90  2933224.96  \n",
       "2016-12-31  6015576.70  2895942.19  \n",
       "2017-12-31  6269568.74  2969944.46  \n",
       "2018-12-31  6198517.96  2824392.64  \n",
       "2019-12-31  6106237.04  2912519.44  \n",
       "2020-12-31  6343643.88  2984618.00  \n",
       "2021-12-31  6294208.06  2894394.98  \n",
       "2022-12-31  5993479.36  2760400.89  \n",
       "2023-12-31   650562.60   284665.25  "
      ]
     },
     "execution_count": 8,
     "metadata": {},
     "output_type": "execute_result"
    }
   ],
   "source": [
    "df_yearly = df.resample('Y').sum()\n",
    "\n",
    "df_yearly"
   ]
  },
  {
   "cell_type": "markdown",
   "id": "99ebb72559ccdf0e",
   "metadata": {},
   "source": [
    "## EDA"
   ]
  },
  {
   "cell_type": "code",
   "execution_count": 9,
   "id": "2455560cd4f3178",
   "metadata": {
    "ExecuteTime": {
     "end_time": "2023-10-11T05:41:40.242776800Z",
     "start_time": "2023-10-11T05:41:39.251216800Z"
    }
   },
   "outputs": [
    {
     "data": {
      "image/png": "[encoded data removed]",
      "text/plain": [
       "<Figure size 640x480 with 1 Axes>"
      ]
     },
     "metadata": {},
     "output_type": "display_data"
    }
   ],
   "source": [
    "sns.lineplot(data=df_yearly.loc[:\"2022\", :], x=df_yearly.loc[:\"2022\", :].index.values,\n",
    "             y=\"Q1\")\n",
    "plt.xlabel(\"Year\")\n",
    "plt.ylabel(\"Q1\")\n",
    "plt.show()"
   ]
  },
  {
   "cell_type": "code",
   "execution_count": 10,
   "id": "622f776d117ece92",
   "metadata": {
    "ExecuteTime": {
     "end_time": "2023-10-11T05:41:41.341063400Z",
     "start_time": "2023-10-11T05:41:40.246178300Z"
    }
   },
   "outputs": [
    {
     "data": {
      "image/png": "[encoded data removed]",
      "text/plain": [
       "<Figure size 640x480 with 1 Axes>"
      ]
     },
     "metadata": {},
     "output_type": "display_data"
    }
   ],
   "source": [
    "sns.lineplot(data=df_yearly.loc[:\"2022\", :], x=df_yearly.loc[:\"2022\", :].index.values,\n",
    "             y=\"Q2\")\n",
    "plt.xlabel(\"Year\")\n",
    "plt.ylabel(\"Q2\")\n",
    "plt.show()"
   ]
  },
  {
   "cell_type": "code",
   "execution_count": 11,
   "id": "7ee3e5f3a156b399",
   "metadata": {
    "ExecuteTime": {
     "end_time": "2023-10-11T05:41:41.981351600Z",
     "start_time": "2023-10-11T05:41:41.175208400Z"
    }
   },
   "outputs": [
    {
     "data": {
      "image/png": "[encoded data removed]",
      "text/plain": [
       "<Figure size 640x480 with 1 Axes>"
      ]
     },
     "metadata": {},
     "output_type": "display_data"
    }
   ],
   "source": [
    "sns.lineplot(data=df_yearly.loc[:\"2022\", :], x=df_yearly.loc[:\"2022\", :].index.values,\n",
    "             y=\"Q3\")\n",
    "plt.xlabel(\"Year\")\n",
    "plt.ylabel(\"Q3\")\n",
    "plt.show()"
   ]
  },
  {
   "cell_type": "code",
   "execution_count": 12,
   "id": "271a4c2254e8db29",
   "metadata": {
    "ExecuteTime": {
     "end_time": "2023-10-11T05:41:42.528228400Z",
     "start_time": "2023-10-11T05:41:41.981351600Z"
    }
   },
   "outputs": [
    {
     "data": {
      "image/png": "[encoded data removed]",
      "text/plain": [
       "<Figure size 640x480 with 1 Axes>"
      ]
     },
     "metadata": {},
     "output_type": "display_data"
    }
   ],
   "source": [
    "sns.lineplot(data=df_yearly.loc[:\"2022\", :], x=df_yearly.loc[:\"2022\", :].index.values,\n",
    "             y=\"Q4\")\n",
    "plt.xlabel(\"Year\")\n",
    "plt.ylabel(\"Q4\")\n",
    "plt.show()"
   ]
  },
  {
   "cell_type": "code",
   "execution_count": 13,
   "id": "3d69ce802e26dfff",
   "metadata": {
    "ExecuteTime": {
     "end_time": "2023-10-11T05:41:43.064516600Z",
     "start_time": "2023-10-11T05:41:42.529229400Z"
    }
   },
   "outputs": [
    {
     "data": {
      "image/png": "[encoded data removed]",
      "text/plain": [
       "<Figure size 640x480 with 1 Axes>"
      ]
     },
     "metadata": {},
     "output_type": "display_data"
    }
   ],
   "source": [
    "sns.lineplot(data=df_yearly.loc[:\"2022\", :], x=df_yearly.loc[:\"2022\", :].index.values,\n",
    "             y=\"S1\")\n",
    "plt.xlabel(\"Year\")\n",
    "plt.ylabel(\"S1\")\n",
    "plt.show()"
   ]
  },
  {
   "cell_type": "code",
   "execution_count": 14,
   "id": "e323ee677175aae",
   "metadata": {
    "ExecuteTime": {
     "end_time": "2023-10-11T05:41:43.478409400Z",
     "start_time": "2023-10-11T05:41:43.046510100Z"
    }
   },
   "outputs": [
    {
     "data": {
      "image/png": "[encoded data removed]",
      "text/plain": [
       "<Figure size 640x480 with 1 Axes>"
      ]
     },
     "metadata": {},
     "output_type": "display_data"
    }
   ],
   "source": [
    "sns.lineplot(data=df_yearly.loc[:\"2022\", :], x=df_yearly.loc[:\"2022\", :].index.values,\n",
    "             y=\"S2\")\n",
    "plt.xlabel(\"Year\")\n",
    "plt.ylabel(\"S2\")\n",
    "plt.show()"
   ]
  },
  {
   "cell_type": "code",
   "execution_count": 15,
   "id": "f78a4fc8d32c0dea",
   "metadata": {
    "ExecuteTime": {
     "end_time": "2023-10-11T05:41:43.999196300Z",
     "start_time": "2023-10-11T05:41:43.479408300Z"
    }
   },
   "outputs": [
    {
     "data": {
      "image/png": "[encoded data removed]",
      "text/plain": [
       "<Figure size 640x480 with 1 Axes>"
      ]
     },
     "metadata": {},
     "output_type": "display_data"
    }
   ],
   "source": [
    "sns.lineplot(data=df_yearly.loc[:\"2022\", :], x=df_yearly.loc[:\"2022\", :].index.values,\n",
    "             y=\"S3\")\n",
    "plt.xlabel(\"Year\")\n",
    "plt.ylabel(\"S3\")\n",
    "plt.show()"
   ]
  },
  {
   "cell_type": "code",
   "execution_count": 16,
   "id": "4f16cbdb4e4a1cb9",
   "metadata": {
    "ExecuteTime": {
     "end_time": "2023-10-11T05:41:44.519438700Z",
     "start_time": "2023-10-11T05:41:44.005299900Z"
    }
   },
   "outputs": [
    {
     "data": {
      "image/png": "[encoded data removed]",
      "text/plain": [
       "<Figure size 640x480 with 1 Axes>"
      ]
     },
     "metadata": {},
     "output_type": "display_data"
    }
   ],
   "source": [
    "sns.lineplot(data=df_yearly.loc[:\"2022\", :], x=df_yearly.loc[:\"2022\", :].index.values,\n",
    "             y=\"S4\")\n",
    "plt.xlabel(\"Year\")\n",
    "plt.ylabel(\"S4\")\n",
    "plt.show()"
   ]
  },
  {
   "cell_type": "markdown",
   "id": "9a45228061144e5e",
   "metadata": {},
   "source": [
    "### Splitting for Train and Test"
   ]
  },
  {
   "cell_type": "code",
   "execution_count": 17,
   "id": "cd61d61e09d72b2c",
   "metadata": {
    "ExecuteTime": {
     "end_time": "2023-10-11T05:41:44.646586500Z",
     "start_time": "2023-10-11T05:41:44.520436700Z"
    }
   },
   "outputs": [],
   "source": [
    "train = df_yearly.loc['2010-12-31':'2022-12-31', :]\n",
    "test = df_yearly.loc['2023-12-31':'2023-12-31', :]"
   ]
  },
  {
   "cell_type": "markdown",
   "id": "f82c3689310005d1",
   "metadata": {},
   "source": [
    "## Model Creation"
   ]
  },
  {
   "cell_type": "code",
   "execution_count": 18,
   "id": "ab3b3e57",
   "metadata": {
    "ExecuteTime": {
     "end_time": "2023-10-11T05:41:44.647570300Z",
     "start_time": "2023-10-11T05:41:44.543520100Z"
    }
   },
   "outputs": [],
   "source": [
    "product_column = 'Q2'  ## This will the column we are predicting"
   ]
  },
  {
   "cell_type": "markdown",
   "id": "92077308d3345ae1",
   "metadata": {},
   "source": [
    "### Fit a SARIMAX model to training data"
   ]
  },
  {
   "cell_type": "code",
   "execution_count": 19,
   "id": "439173a3",
   "metadata": {
    "ExecuteTime": {
     "end_time": "2023-10-11T05:41:44.775091400Z",
     "start_time": "2023-10-11T05:41:44.572612800Z"
    }
   },
   "outputs": [],
   "source": [
    "order = (1, 1, 1)\n",
    "seasonal_order = (0, 0, 0, 12)  # Assumes annual seasonality\n",
    "\n",
    "model = SARIMAX(train[product_column], order=order, seasonal_order=seasonal_order, freq=\"Y\")\n",
    "results = model.fit()"
   ]
  },
  {
   "cell_type": "code",
   "execution_count": 20,
   "id": "2f0afb8e6de37fc5",
   "metadata": {
    "ExecuteTime": {
     "end_time": "2023-10-11T05:41:44.937770800Z",
     "start_time": "2023-10-11T05:41:44.750350400Z"
    }
   },
   "outputs": [
    {
     "name": "stdout",
     "output_type": "stream",
     "text": [
      "                               SARIMAX Results                                \n",
      "==============================================================================\n",
      "Dep. Variable:                     Q2   No. Observations:                   13\n",
      "Model:               SARIMAX(1, 1, 1)   Log Likelihood                -182.550\n",
      "Date:                Wed, 11 Oct 2023   AIC                            371.101\n",
      "Time:                        11:11:44   BIC                            372.555\n",
      "Sample:                    12-31-2010   HQIC                           370.562\n",
      "                         - 12-31-2022                                         \n",
      "Covariance Type:                  opg                                         \n",
      "==============================================================================\n",
      "                 coef    std err          z      P>|z|      [0.025      0.975]\n",
      "------------------------------------------------------------------------------\n",
      "ar.L1          0.0873      0.020      4.269      0.000       0.047       0.127\n",
      "ma.L1          0.6054      0.033     18.125      0.000       0.540       0.671\n",
      "sigma2      3.135e+08   1.46e-11   2.15e+19      0.000    3.14e+08    3.14e+08\n",
      "===================================================================================\n",
      "Ljung-Box (L1) (Q):                   6.43   Jarque-Bera (JB):                 0.86\n",
      "Prob(Q):                              0.01   Prob(JB):                         0.65\n",
      "Heteroskedasticity (H):               0.79   Skew:                             0.29\n",
      "Prob(H) (two-sided):                  0.83   Kurtosis:                         1.83\n",
      "===================================================================================\n",
      "\n",
      "Warnings:\n",
      "[1] Covariance matrix calculated using the outer product of gradients (complex-step).\n",
      "[2] Covariance matrix is singular or near-singular, with condition number 2.61e+34. Standard errors may be unstable.\n"
     ]
    }
   ],
   "source": [
    "print(results.summary())"
   ]
  },
  {
   "cell_type": "markdown",
   "id": "4045f1fcb3599c70",
   "metadata": {},
   "source": [
    "## Prediction"
   ]
  },
  {
   "cell_type": "code",
   "execution_count": 21,
   "id": "e01f83a4d01a5173",
   "metadata": {
    "ExecuteTime": {
     "end_time": "2023-10-11T05:41:44.981083300Z",
     "start_time": "2023-10-11T05:41:44.943771300Z"
    }
   },
   "outputs": [],
   "source": [
    "forecast = results.get_forecast(steps=3, dynamic=False)\n",
    "forecast_values = forecast.predicted_mean"
   ]
  },
  {
   "cell_type": "code",
   "execution_count": 22,
   "id": "b151bd5d5e77b02a",
   "metadata": {
    "ExecuteTime": {
     "end_time": "2023-10-11T05:41:45.069554100Z",
     "start_time": "2023-10-11T05:41:44.969561300Z"
    }
   },
   "outputs": [
    {
     "name": "stdout",
     "output_type": "stream",
     "text": [
      "Predicted Values for 2024 : 722323.3350284399\n"
     ]
    }
   ],
   "source": [
    "print(f\"Predicted Values for {forecast_values.index.year[1]} : {forecast_values.values[1]}\")"
   ]
  },
  {
   "cell_type": "code",
   "execution_count": 23,
   "id": "6d4674922c4fe0cd",
   "metadata": {
    "ExecuteTime": {
     "end_time": "2023-10-11T05:41:45.121675900Z",
     "start_time": "2023-10-11T05:41:44.981083300Z"
    }
   },
   "outputs": [
    {
     "data": {
      "text/html": [
       "<div>\n",
       "<style scoped>\n",
       "    .dataframe tbody tr th:only-of-type {\n",
       "        vertical-align: middle;\n",
       "    }\n",
       "\n",
       "    .dataframe tbody tr th {\n",
       "        vertical-align: top;\n",
       "    }\n",
       "\n",
       "    .dataframe thead th {\n",
       "        text-align: right;\n",
       "    }\n",
       "</style>\n",
       "<table border=\"1\" class=\"dataframe\">\n",
       "  <thead>\n",
       "    <tr style=\"text-align: right;\">\n",
       "      <th></th>\n",
       "      <th>Q1</th>\n",
       "      <th>Q2</th>\n",
       "      <th>Q3</th>\n",
       "      <th>Q4</th>\n",
       "      <th>S1</th>\n",
       "      <th>S2</th>\n",
       "      <th>S3</th>\n",
       "      <th>S4</th>\n",
       "    </tr>\n",
       "    <tr>\n",
       "      <th>Date</th>\n",
       "      <th></th>\n",
       "      <th></th>\n",
       "      <th></th>\n",
       "      <th></th>\n",
       "      <th></th>\n",
       "      <th></th>\n",
       "      <th></th>\n",
       "      <th></th>\n",
       "    </tr>\n",
       "  </thead>\n",
       "  <tbody>\n",
       "    <tr>\n",
       "      <th>2010-12-31</th>\n",
       "      <td>802353</td>\n",
       "      <td>429038</td>\n",
       "      <td>624624</td>\n",
       "      <td>219849</td>\n",
       "      <td>2543459.01</td>\n",
       "      <td>2720100.92</td>\n",
       "      <td>3385462.08</td>\n",
       "      <td>1567523.37</td>\n",
       "    </tr>\n",
       "    <tr>\n",
       "      <th>2011-12-31</th>\n",
       "      <td>1433066</td>\n",
       "      <td>747815</td>\n",
       "      <td>1150383</td>\n",
       "      <td>409762</td>\n",
       "      <td>4542819.22</td>\n",
       "      <td>4741147.10</td>\n",
       "      <td>6235075.86</td>\n",
       "      <td>2921603.06</td>\n",
       "    </tr>\n",
       "    <tr>\n",
       "      <th>2012-12-31</th>\n",
       "      <td>1505099</td>\n",
       "      <td>766875</td>\n",
       "      <td>1139098</td>\n",
       "      <td>415878</td>\n",
       "      <td>4771163.83</td>\n",
       "      <td>4861987.50</td>\n",
       "      <td>6173911.16</td>\n",
       "      <td>2965210.14</td>\n",
       "    </tr>\n",
       "    <tr>\n",
       "      <th>2013-12-31</th>\n",
       "      <td>1524821</td>\n",
       "      <td>752582</td>\n",
       "      <td>1110297</td>\n",
       "      <td>402313</td>\n",
       "      <td>4833682.57</td>\n",
       "      <td>4771369.88</td>\n",
       "      <td>6017809.74</td>\n",
       "      <td>2868491.69</td>\n",
       "    </tr>\n",
       "    <tr>\n",
       "      <th>2014-12-31</th>\n",
       "      <td>1562941</td>\n",
       "      <td>785457</td>\n",
       "      <td>1155979</td>\n",
       "      <td>401840</td>\n",
       "      <td>4954522.97</td>\n",
       "      <td>4979797.38</td>\n",
       "      <td>6265406.18</td>\n",
       "      <td>2865119.20</td>\n",
       "    </tr>\n",
       "    <tr>\n",
       "      <th>2015-12-31</th>\n",
       "      <td>1473098</td>\n",
       "      <td>762430</td>\n",
       "      <td>1104795</td>\n",
       "      <td>411392</td>\n",
       "      <td>4669720.66</td>\n",
       "      <td>4833806.20</td>\n",
       "      <td>5987988.90</td>\n",
       "      <td>2933224.96</td>\n",
       "    </tr>\n",
       "    <tr>\n",
       "      <th>2016-12-31</th>\n",
       "      <td>1507255</td>\n",
       "      <td>780007</td>\n",
       "      <td>1109885</td>\n",
       "      <td>406163</td>\n",
       "      <td>4777998.35</td>\n",
       "      <td>4945244.38</td>\n",
       "      <td>6015576.70</td>\n",
       "      <td>2895942.19</td>\n",
       "    </tr>\n",
       "    <tr>\n",
       "      <th>2017-12-31</th>\n",
       "      <td>1460109</td>\n",
       "      <td>802194</td>\n",
       "      <td>1156747</td>\n",
       "      <td>416542</td>\n",
       "      <td>4628545.53</td>\n",
       "      <td>5085909.96</td>\n",
       "      <td>6269568.74</td>\n",
       "      <td>2969944.46</td>\n",
       "    </tr>\n",
       "    <tr>\n",
       "      <th>2018-12-31</th>\n",
       "      <td>1522332</td>\n",
       "      <td>745633</td>\n",
       "      <td>1143638</td>\n",
       "      <td>396128</td>\n",
       "      <td>4825792.44</td>\n",
       "      <td>4727313.22</td>\n",
       "      <td>6198517.96</td>\n",
       "      <td>2824392.64</td>\n",
       "    </tr>\n",
       "    <tr>\n",
       "      <th>2019-12-31</th>\n",
       "      <td>1476768</td>\n",
       "      <td>780174</td>\n",
       "      <td>1126612</td>\n",
       "      <td>408488</td>\n",
       "      <td>4681354.56</td>\n",
       "      <td>4946303.16</td>\n",
       "      <td>6106237.04</td>\n",
       "      <td>2912519.44</td>\n",
       "    </tr>\n",
       "    <tr>\n",
       "      <th>2020-12-31</th>\n",
       "      <td>1492774</td>\n",
       "      <td>773632</td>\n",
       "      <td>1170414</td>\n",
       "      <td>418600</td>\n",
       "      <td>4732093.58</td>\n",
       "      <td>4904826.88</td>\n",
       "      <td>6343643.88</td>\n",
       "      <td>2984618.00</td>\n",
       "    </tr>\n",
       "    <tr>\n",
       "      <th>2021-12-31</th>\n",
       "      <td>1500978</td>\n",
       "      <td>780502</td>\n",
       "      <td>1161293</td>\n",
       "      <td>405946</td>\n",
       "      <td>4758100.26</td>\n",
       "      <td>4948382.68</td>\n",
       "      <td>6294208.06</td>\n",
       "      <td>2894394.98</td>\n",
       "    </tr>\n",
       "    <tr>\n",
       "      <th>2022-12-31</th>\n",
       "      <td>1448265</td>\n",
       "      <td>756631</td>\n",
       "      <td>1105808</td>\n",
       "      <td>387153</td>\n",
       "      <td>4591000.05</td>\n",
       "      <td>4797040.54</td>\n",
       "      <td>5993479.36</td>\n",
       "      <td>2760400.89</td>\n",
       "    </tr>\n",
       "    <tr>\n",
       "      <th>2023-12-31</th>\n",
       "      <td>150310</td>\n",
       "      <td>78301</td>\n",
       "      <td>120030</td>\n",
       "      <td>39925</td>\n",
       "      <td>476482.70</td>\n",
       "      <td>496428.34</td>\n",
       "      <td>650562.60</td>\n",
       "      <td>284665.25</td>\n",
       "    </tr>\n",
       "  </tbody>\n",
       "</table>\n",
       "</div>"
      ],
      "text/plain": [
       "                 Q1      Q2       Q3      Q4          S1          S2  \\\n",
       "Date                                                                   \n",
       "2010-12-31   802353  429038   624624  219849  2543459.01  2720100.92   \n",
       "2011-12-31  1433066  747815  1150383  409762  4542819.22  4741147.10   \n",
       "2012-12-31  1505099  766875  1139098  415878  4771163.83  4861987.50   \n",
       "2013-12-31  1524821  752582  1110297  402313  4833682.57  4771369.88   \n",
       "2014-12-31  1562941  785457  1155979  401840  4954522.97  4979797.38   \n",
       "2015-12-31  1473098  762430  1104795  411392  4669720.66  4833806.20   \n",
       "2016-12-31  1507255  780007  1109885  406163  4777998.35  4945244.38   \n",
       "2017-12-31  1460109  802194  1156747  416542  4628545.53  5085909.96   \n",
       "2018-12-31  1522332  745633  1143638  396128  4825792.44  4727313.22   \n",
       "2019-12-31  1476768  780174  1126612  408488  4681354.56  4946303.16   \n",
       "2020-12-31  1492774  773632  1170414  418600  4732093.58  4904826.88   \n",
       "2021-12-31  1500978  780502  1161293  405946  4758100.26  4948382.68   \n",
       "2022-12-31  1448265  756631  1105808  387153  4591000.05  4797040.54   \n",
       "2023-12-31   150310   78301   120030   39925   476482.70   496428.34   \n",
       "\n",
       "                    S3          S4  \n",
       "Date                                \n",
       "2010-12-31  3385462.08  1567523.37  \n",
       "2011-12-31  6235075.86  2921603.06  \n",
       "2012-12-31  6173911.16  2965210.14  \n",
       "2013-12-31  6017809.74  2868491.69  \n",
       "2014-12-31  6265406.18  2865119.20  \n",
       "2015-12-31  5987988.90  2933224.96  \n",
       "2016-12-31  6015576.70  2895942.19  \n",
       "2017-12-31  6269568.74  2969944.46  \n",
       "2018-12-31  6198517.96  2824392.64  \n",
       "2019-12-31  6106237.04  2912519.44  \n",
       "2020-12-31  6343643.88  2984618.00  \n",
       "2021-12-31  6294208.06  2894394.98  \n",
       "2022-12-31  5993479.36  2760400.89  \n",
       "2023-12-31   650562.60   284665.25  "
      ]
     },
     "execution_count": 23,
     "metadata": {},
     "output_type": "execute_result"
    }
   ],
   "source": [
    "df_yearly"
   ]
  },
  {
   "cell_type": "markdown",
   "id": "11a3dec116fff16f",
   "metadata": {},
   "source": [
    "## Visualizing the prediction"
   ]
  },
  {
   "cell_type": "markdown",
   "id": "b1b813875a821627",
   "metadata": {},
   "source": [
    "### Joining both DataFrames"
   ]
  },
  {
   "cell_type": "code",
   "execution_count": 24,
   "id": "f5eca32cea28bec1",
   "metadata": {
    "ExecuteTime": {
     "end_time": "2023-10-11T05:41:45.123675600Z",
     "start_time": "2023-10-11T05:41:45.012544Z"
    }
   },
   "outputs": [
    {
     "data": {
      "text/html": [
       "<div>\n",
       "<style scoped>\n",
       "    .dataframe tbody tr th:only-of-type {\n",
       "        vertical-align: middle;\n",
       "    }\n",
       "\n",
       "    .dataframe tbody tr th {\n",
       "        vertical-align: top;\n",
       "    }\n",
       "\n",
       "    .dataframe thead th {\n",
       "        text-align: right;\n",
       "    }\n",
       "</style>\n",
       "<table border=\"1\" class=\"dataframe\">\n",
       "  <thead>\n",
       "    <tr style=\"text-align: right;\">\n",
       "      <th></th>\n",
       "      <th>Date</th>\n",
       "      <th>Q2</th>\n",
       "    </tr>\n",
       "  </thead>\n",
       "  <tbody>\n",
       "    <tr>\n",
       "      <th>0</th>\n",
       "      <td>2010-12-31</td>\n",
       "      <td>429038</td>\n",
       "    </tr>\n",
       "    <tr>\n",
       "      <th>1</th>\n",
       "      <td>2011-12-31</td>\n",
       "      <td>747815</td>\n",
       "    </tr>\n",
       "    <tr>\n",
       "      <th>2</th>\n",
       "      <td>2012-12-31</td>\n",
       "      <td>766875</td>\n",
       "    </tr>\n",
       "    <tr>\n",
       "      <th>3</th>\n",
       "      <td>2013-12-31</td>\n",
       "      <td>752582</td>\n",
       "    </tr>\n",
       "    <tr>\n",
       "      <th>4</th>\n",
       "      <td>2014-12-31</td>\n",
       "      <td>785457</td>\n",
       "    </tr>\n",
       "    <tr>\n",
       "      <th>5</th>\n",
       "      <td>2015-12-31</td>\n",
       "      <td>762430</td>\n",
       "    </tr>\n",
       "    <tr>\n",
       "      <th>6</th>\n",
       "      <td>2016-12-31</td>\n",
       "      <td>780007</td>\n",
       "    </tr>\n",
       "    <tr>\n",
       "      <th>7</th>\n",
       "      <td>2017-12-31</td>\n",
       "      <td>802194</td>\n",
       "    </tr>\n",
       "    <tr>\n",
       "      <th>8</th>\n",
       "      <td>2018-12-31</td>\n",
       "      <td>745633</td>\n",
       "    </tr>\n",
       "    <tr>\n",
       "      <th>9</th>\n",
       "      <td>2019-12-31</td>\n",
       "      <td>780174</td>\n",
       "    </tr>\n",
       "    <tr>\n",
       "      <th>10</th>\n",
       "      <td>2020-12-31</td>\n",
       "      <td>773632</td>\n",
       "    </tr>\n",
       "    <tr>\n",
       "      <th>11</th>\n",
       "      <td>2021-12-31</td>\n",
       "      <td>780502</td>\n",
       "    </tr>\n",
       "    <tr>\n",
       "      <th>12</th>\n",
       "      <td>2022-12-31</td>\n",
       "      <td>756631</td>\n",
       "    </tr>\n",
       "  </tbody>\n",
       "</table>\n",
       "</div>"
      ],
      "text/plain": [
       "         Date      Q2\n",
       "0  2010-12-31  429038\n",
       "1  2011-12-31  747815\n",
       "2  2012-12-31  766875\n",
       "3  2013-12-31  752582\n",
       "4  2014-12-31  785457\n",
       "5  2015-12-31  762430\n",
       "6  2016-12-31  780007\n",
       "7  2017-12-31  802194\n",
       "8  2018-12-31  745633\n",
       "9  2019-12-31  780174\n",
       "10 2020-12-31  773632\n",
       "11 2021-12-31  780502\n",
       "12 2022-12-31  756631"
      ]
     },
     "execution_count": 24,
     "metadata": {},
     "output_type": "execute_result"
    }
   ],
   "source": [
    "vis_data = df_yearly.loc[:\"2022\", [\"Q2\"]]\n",
    "vis_data = vis_data.reset_index()\n",
    "vis_data"
   ]
  },
  {
   "cell_type": "code",
   "execution_count": 25,
   "id": "440431828c180e98",
   "metadata": {
    "ExecuteTime": {
     "end_time": "2023-10-11T05:41:45.134898300Z",
     "start_time": "2023-10-11T05:41:45.028228500Z"
    }
   },
   "outputs": [
    {
     "data": {
      "text/html": [
       "<div>\n",
       "<style scoped>\n",
       "    .dataframe tbody tr th:only-of-type {\n",
       "        vertical-align: middle;\n",
       "    }\n",
       "\n",
       "    .dataframe tbody tr th {\n",
       "        vertical-align: top;\n",
       "    }\n",
       "\n",
       "    .dataframe thead th {\n",
       "        text-align: right;\n",
       "    }\n",
       "</style>\n",
       "<table border=\"1\" class=\"dataframe\">\n",
       "  <thead>\n",
       "    <tr style=\"text-align: right;\">\n",
       "      <th></th>\n",
       "      <th>Date</th>\n",
       "      <th>Q2</th>\n",
       "    </tr>\n",
       "  </thead>\n",
       "  <tbody>\n",
       "    <tr>\n",
       "      <th>0</th>\n",
       "      <td>2023-12-31</td>\n",
       "      <td>725078.428271</td>\n",
       "    </tr>\n",
       "    <tr>\n",
       "      <th>1</th>\n",
       "      <td>2024-12-31</td>\n",
       "      <td>722323.335028</td>\n",
       "    </tr>\n",
       "  </tbody>\n",
       "</table>\n",
       "</div>"
      ],
      "text/plain": [
       "        Date             Q2\n",
       "0 2023-12-31  725078.428271\n",
       "1 2024-12-31  722323.335028"
      ]
     },
     "execution_count": 25,
     "metadata": {},
     "output_type": "execute_result"
    }
   ],
   "source": [
    "new_df = pd.DataFrame({\"Date\": forecast_values.index.values[0:2], \"Q2\": forecast_values.values[0:2]})\n",
    "new_df"
   ]
  },
  {
   "cell_type": "code",
   "execution_count": 26,
   "id": "4e28581073e793dc",
   "metadata": {
    "ExecuteTime": {
     "end_time": "2023-10-11T05:41:45.135941200Z",
     "start_time": "2023-10-11T05:41:45.052240200Z"
    }
   },
   "outputs": [],
   "source": [
    "final_df = pd.concat([vis_data, new_df]).set_index(\"Date\")"
   ]
  },
  {
   "cell_type": "markdown",
   "id": "91bf8f98833c0a1",
   "metadata": {},
   "source": [
    "### Result"
   ]
  },
  {
   "cell_type": "code",
   "execution_count": 27,
   "id": "84ec442dd2a67f2a",
   "metadata": {
    "ExecuteTime": {
     "end_time": "2023-10-11T05:41:45.984585600Z",
     "start_time": "2023-10-11T05:41:45.063165300Z"
    }
   },
   "outputs": [
    {
     "data": {
      "image/png": "[encoded data removed]",
      "text/plain": [
       "<Figure size 640x480 with 1 Axes>"
      ]
     },
     "metadata": {},
     "output_type": "display_data"
    }
   ],
   "source": [
    "sns.lineplot(data=final_df.loc[:\"2022\", :], x=final_df.loc[:\"2022\", :].index.values, y=\"Q2\", label=\"2010 - 2022\")\n",
    "sns.lineplot(data=final_df.loc[\"2022\":, :], x=final_df.loc[\"2022\":, :].index.values, y=\"Q2\", label=\"2023-2024\")\n",
    "plt.title(\"Prediction for 2024\")\n",
    "plt.xlabel(\"Year\")\n",
    "plt.ylabel(\"Q2\")\n",
    "plt.show()"
   ]
  }
 ],
 "metadata": {
  "kernelspec": {
   "display_name": "Python 3 (ipykernel)",
   "language": "python",
   "name": "python3"
  },
  "language_info": {
   "codemirror_mode": {
    "name": "ipython",
    "version": 3
   },
   "file_extension": ".py",
   "mimetype": "text/x-python",
   "name": "python",
   "nbconvert_exporter": "python",
   "pygments_lexer": "ipython3",
   "version": "3.11.5"
  }
 },
 "nbformat": 4,
 "nbformat_minor": 5
}
